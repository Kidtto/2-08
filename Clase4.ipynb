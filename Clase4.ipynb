{
  "nbformat": 4,
  "nbformat_minor": 0,
  "metadata": {
    "colab": {
      "provenance": [],
      "authorship_tag": "ABX9TyOqDDiVeHN/56/g4WaQeMVv",
      "include_colab_link": true
    },
    "kernelspec": {
      "name": "python3",
      "display_name": "Python 3"
    },
    "language_info": {
      "name": "python"
    }
  },
  "cells": [
    {
      "cell_type": "markdown",
      "metadata": {
        "id": "view-in-github",
        "colab_type": "text"
      },
      "source": [
        "<a href=\"https://colab.research.google.com/github/Kidtto/2-08/blob/main/Clase4.ipynb\" target=\"_parent\"><img src=\"https://colab.research.google.com/assets/colab-badge.svg\" alt=\"Open In Colab\"/></a>"
      ]
    },
    {
      "cell_type": "code",
      "execution_count": 1,
      "metadata": {
        "colab": {
          "base_uri": "https://localhost:8080/"
        },
        "id": "PUwf-FHvAO0N",
        "outputId": "1f770b61-42b0-46cc-fa88-4321b368eaa2"
      },
      "outputs": [
        {
          "output_type": "stream",
          "name": "stdout",
          "text": [
            "['Matemáticas', 'Programación I', 'Base de Datos', 'Programación Web', 'Ingles']\n"
          ]
        }
      ],
      "source": [
        "materias = [\"Matemáticas\", \"Programación I\", \"Base de Datos\", \"Programación Web\", \"Ingles\"]\n",
        "print(materias)"
      ]
    },
    {
      "cell_type": "code",
      "source": [
        "numeros = [1,2,3,4,5]\n",
        "print(numeros)\n",
        "\n",
        "print(numeros[0])\n",
        "print(numeros[2])\n",
        "print(numeros[-1])\n",
        "print(numeros[-2])"
      ],
      "metadata": {
        "colab": {
          "base_uri": "https://localhost:8080/"
        },
        "id": "DMsuPhk3Ax9D",
        "outputId": "93ee48fe-b239-4a8c-ac65-e83c29b4374e"
      },
      "execution_count": 2,
      "outputs": [
        {
          "output_type": "stream",
          "name": "stdout",
          "text": [
            "[1, 2, 3, 4, 5]\n",
            "1\n",
            "3\n",
            "5\n",
            "4\n"
          ]
        }
      ]
    },
    {
      "cell_type": "code",
      "source": [
        "#lista() - Dato tipo lista Secuencia ordenada de elementos\n",
        "lista = [0,2,3,4,5,6,7,8,9]\n",
        "print(type(lista))\n",
        "print (lista)\n",
        "print (lista[1])\n",
        "lista[0] = 1\n",
        "print (lista)\n",
        "print (lista[-1])\n",
        "print (lista[-2])\n",
        "print (lista[-3])"
      ],
      "metadata": {
        "colab": {
          "base_uri": "https://localhost:8080/"
        },
        "id": "yr1i3017A-Pj",
        "outputId": "caa91f2e-c25e-496e-8492-8d6057d7d9d7"
      },
      "execution_count": 3,
      "outputs": [
        {
          "output_type": "stream",
          "name": "stdout",
          "text": [
            "<class 'list'>\n",
            "[0, 2, 3, 4, 5, 6, 7, 8, 9]\n",
            "2\n",
            "[1, 2, 3, 4, 5, 6, 7, 8, 9]\n",
            "9\n",
            "8\n",
            "7\n"
          ]
        }
      ]
    },
    {
      "cell_type": "code",
      "source": [
        "#lista() - Operaciones con listas\n",
        "lista = [1,2,4]\n",
        "lst = [8,9,10,11,12,13,14]\n",
        "#anexar datos\n",
        "lista.append(5)\n",
        "print (lista)\n",
        "lista.append(6)\n",
        "lista.append(7)\n",
        "print (lista)\n",
        "lista.insert(2,3)\n",
        "print (lista)\n",
        "lista.append(lst)\n",
        "print (lista)\n",
        "print (lista[-1])\n",
        "print (lista[-1][-1])\n",
        "print (lista[-1][-3])\n",
        "\n",
        "#borrar datos\n",
        "lista.remove(2)\n",
        "print (lista)\n",
        "lista.pop()\n",
        "print (lista)\n",
        "lista.pop()\n",
        "print (lista)"
      ],
      "metadata": {
        "colab": {
          "base_uri": "https://localhost:8080/"
        },
        "id": "ji-MtJ1DBnFD",
        "outputId": "70c7fe64-0334-420c-be19-daff2ec4fe07"
      },
      "execution_count": 5,
      "outputs": [
        {
          "output_type": "stream",
          "name": "stdout",
          "text": [
            "[1, 2, 4, 5]\n",
            "[1, 2, 4, 5, 6, 7]\n",
            "[1, 2, 3, 4, 5, 6, 7]\n",
            "[1, 2, 3, 4, 5, 6, 7, [8, 9, 10, 11, 12, 13, 14]]\n",
            "[8, 9, 10, 11, 12, 13, 14]\n",
            "14\n",
            "12\n",
            "[1, 3, 4, 5, 6, 7, [8, 9, 10, 11, 12, 13, 14]]\n",
            "[1, 3, 4, 5, 6, 7]\n",
            "[1, 3, 4, 5, 6]\n"
          ]
        }
      ]
    },
    {
      "cell_type": "code",
      "source": [
        "from random import randint\n",
        "\n",
        "lista=[]\n",
        "for i in range (5):\n",
        "    lista.append(randint(1, 10))\n",
        "print(lista)"
      ],
      "metadata": {
        "colab": {
          "base_uri": "https://localhost:8080/"
        },
        "id": "ql18ApnHB2Os",
        "outputId": "ec794769-d4fc-40a0-c1b0-3a40cf1aabf9"
      },
      "execution_count": 6,
      "outputs": [
        {
          "output_type": "stream",
          "name": "stdout",
          "text": [
            "[1, 8, 7, 8, 4]\n"
          ]
        }
      ]
    },
    {
      "cell_type": "code",
      "source": [
        "from random import randint\n",
        "from statistics import mode\n",
        "from collections import Counter\n",
        "\n",
        "class Lista:\n",
        "     def __init__(self, lst):\n",
        "         self.lista = lst\n",
        "\n",
        "     def llenar_lista(self):\n",
        "        for i in range (7):\n",
        "            self.lista.append(randint(1, 10))\n",
        "\n",
        "     def mostrar_lista(self):\n",
        "         print(self.lista)\n",
        "\n",
        "     def  imprimir_datos( self ):\n",
        "         for c in self.lista:\n",
        "             print (c)\n",
        "\n",
        "     def sumar(self):\n",
        "        suma=0\n",
        "        for n in range(len(self.lista)):\n",
        "            suma=suma+self.lista[n]\n",
        "        return suma\n",
        "\n",
        "     def obtener_mayor(self):\n",
        "        mayor=self.lista[0]\n",
        "        for n in range(1,len(self.lista)):\n",
        "            if self.lista[n]>mayor:\n",
        "                mayor=self.lista[n]\n",
        "        return mayor\n",
        "\n",
        "\n",
        "     def obtener_menor(self):\n",
        "        menor=self.lista[0]\n",
        "        for n in range(1,len(self.lista)):\n",
        "            if self.lista[n]<menor:\n",
        "                menor=self.lista[n]\n",
        "        return menor\n",
        "\n",
        "     def obtener_numero_mas_repetido(self):\n",
        "        numero = mode(self.lista)\n",
        "        return numero\n",
        "\n",
        "     def obtener_numero_repetido(self):\n",
        "        numero = (Counter(self.lista).most_common()[0][0])\n",
        "        return numero\n",
        "\n",
        "     def obtener_mas_repetido(self):\n",
        "        numero = (max(set(self.lista), key=self.lista.count))\n",
        "        return numero\n",
        "\n",
        "\n",
        "\n",
        "\n",
        "def run():\n",
        "\n",
        "    lst = []\n",
        "    unaLista = Lista(lst)\n",
        "\n",
        "    unaLista.llenar_lista()\n",
        "    unaLista.mostrar_lista()\n",
        "    unaLista.imprimir_datos()\n",
        "    print('Suma elementos lista ',unaLista.sumar())\n",
        "    print('Elemento mayor de la lista ',unaLista.obtener_mayor())\n",
        "    print('Elemento menor de la lista ',unaLista.obtener_menor())\n",
        "    print('Numero mas repetido ',unaLista.obtener_numero_mas_repetido())\n",
        "    print('Numero que mas se repite ',unaLista.obtener_numero_repetido())\n",
        "    print('Numero  mas repetido ',unaLista.obtener_mas_repetido())\n",
        "\n",
        "\n",
        "\n",
        "if __name__ == '__main__':\n",
        "    run()\n"
      ],
      "metadata": {
        "colab": {
          "base_uri": "https://localhost:8080/"
        },
        "id": "v6km_CyCB3eD",
        "outputId": "32290ca0-8e86-49a1-954d-3c9cd70aa967"
      },
      "execution_count": 8,
      "outputs": [
        {
          "output_type": "stream",
          "name": "stdout",
          "text": [
            "[2, 8, 3, 8, 6, 7, 3]\n",
            "2\n",
            "8\n",
            "3\n",
            "8\n",
            "6\n",
            "7\n",
            "3\n",
            "Suma elementos lista  37\n",
            "Elemento mayor de la lista  8\n",
            "Elemento menor de la lista  2\n",
            "Numero mas repetido  8\n",
            "Numero que mas se repite  8\n",
            "Numero  mas repetido  3\n"
          ]
        }
      ]
    }
  ]
}