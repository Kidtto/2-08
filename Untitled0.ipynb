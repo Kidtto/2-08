{
  "nbformat": 4,
  "nbformat_minor": 0,
  "metadata": {
    "colab": {
      "provenance": [],
      "authorship_tag": "ABX9TyN2uILhcmx0lH/cfBZhN1kh",
      "include_colab_link": true
    },
    "kernelspec": {
      "name": "python3",
      "display_name": "Python 3"
    },
    "language_info": {
      "name": "python"
    }
  },
  "cells": [
    {
      "cell_type": "markdown",
      "metadata": {
        "id": "view-in-github",
        "colab_type": "text"
      },
      "source": [
        "<a href=\"https://colab.research.google.com/github/Kidtto/2-08/blob/main/Untitled0.ipynb\" target=\"_parent\"><img src=\"https://colab.research.google.com/assets/colab-badge.svg\" alt=\"Open In Colab\"/></a>"
      ]
    },
    {
      "cell_type": "code",
      "execution_count": 1,
      "metadata": {
        "colab": {
          "base_uri": "https://localhost:8080/"
        },
        "id": "m9kmHNM3NOzQ",
        "outputId": "bc765b19-df53-4483-bdbb-c6566b1912d8"
      },
      "outputs": [
        {
          "output_type": "execute_result",
          "data": {
            "text/plain": [
              "8"
            ]
          },
          "metadata": {},
          "execution_count": 1
        }
      ],
      "source": [
        "5+3"
      ]
    },
    {
      "cell_type": "code",
      "source": [
        "7-4"
      ],
      "metadata": {
        "colab": {
          "base_uri": "https://localhost:8080/"
        },
        "id": "GWZObFt1NUuS",
        "outputId": "eadf9d87-0896-425f-d0fd-156f730379d4"
      },
      "execution_count": 2,
      "outputs": [
        {
          "output_type": "execute_result",
          "data": {
            "text/plain": [
              "3"
            ]
          },
          "metadata": {},
          "execution_count": 2
        }
      ]
    },
    {
      "cell_type": "code",
      "source": [
        "4*5"
      ],
      "metadata": {
        "colab": {
          "base_uri": "https://localhost:8080/"
        },
        "id": "3ylI4gZgNXXJ",
        "outputId": "02baa8eb-7b47-4e40-d319-299fb3614d78"
      },
      "execution_count": 3,
      "outputs": [
        {
          "output_type": "execute_result",
          "data": {
            "text/plain": [
              "20"
            ]
          },
          "metadata": {},
          "execution_count": 3
        }
      ]
    },
    {
      "cell_type": "code",
      "source": [
        "x= 9\n",
        "y= 3\n",
        "suma= x+y\n",
        "resta = x-y\n",
        "multiplicacion = x*y\n",
        "division = x/y\n",
        "print (suma)\n",
        "print (resta)\n",
        "print (multiplicacion)\n",
        "print (division)"
      ],
      "metadata": {
        "colab": {
          "base_uri": "https://localhost:8080/"
        },
        "id": "9EKRauaoNZJZ",
        "outputId": "b1f26b72-a652-43b0-bef1-00630c80a108"
      },
      "execution_count": 5,
      "outputs": [
        {
          "output_type": "stream",
          "name": "stdout",
          "text": [
            "12\n",
            "6\n",
            "27\n",
            "3.0\n"
          ]
        }
      ]
    },
    {
      "cell_type": "code",
      "source": [
        "4**8\n"
      ],
      "metadata": {
        "colab": {
          "base_uri": "https://localhost:8080/"
        },
        "id": "MAu_yFbjN8T6",
        "outputId": "b5977ff3-4f85-4e6a-ed70-55d3d0e77474"
      },
      "execution_count": 6,
      "outputs": [
        {
          "output_type": "execute_result",
          "data": {
            "text/plain": [
              "65536"
            ]
          },
          "metadata": {},
          "execution_count": 6
        }
      ]
    },
    {
      "cell_type": "code",
      "source": [
        "3%8\n"
      ],
      "metadata": {
        "colab": {
          "base_uri": "https://localhost:8080/"
        },
        "id": "9bW93VR-N-Jq",
        "outputId": "8d962eeb-89a0-48c1-9f3e-3958e287d2e1"
      },
      "execution_count": 7,
      "outputs": [
        {
          "output_type": "execute_result",
          "data": {
            "text/plain": [
              "3"
            ]
          },
          "metadata": {},
          "execution_count": 7
        }
      ]
    },
    {
      "cell_type": "code",
      "source": [
        "x = int(input('Digite un número '))\n",
        "\n",
        "y = int(input('Digite un número '))\n",
        "\n",
        "suma =  x + y\n",
        "\n",
        "resta = x - y\n",
        "\n",
        "producto = x * y\n",
        "\n",
        "division = x / y\n",
        "\n",
        "print(suma)\n",
        "\n",
        "print(resta)\n",
        "\n",
        "print(producto)\n",
        "\n",
        "print(division)"
      ],
      "metadata": {
        "colab": {
          "base_uri": "https://localhost:8080/"
        },
        "id": "1Pm2nqAIOErj",
        "outputId": "7eb7812f-24d1-4f83-e421-1fa93f244172"
      },
      "execution_count": 11,
      "outputs": [
        {
          "output_type": "stream",
          "name": "stdout",
          "text": [
            "Digite un número 8\n",
            "Digite un número 9\n",
            "17\n",
            "-1\n",
            "72\n",
            "0.8888888888888888\n"
          ]
        }
      ]
    },
    {
      "cell_type": "code",
      "source": [
        "'''\n",
        "Programa que calcula definitivas\n",
        "Nota_1 = 30%\n",
        "Nota_2 = 30%\n",
        "Nota_3 = 40%\n",
        "\n",
        "'''\n",
        "# Entrada\n",
        "\n",
        "nota1 =   float(input('Ingrese nota 1: '))\n",
        "\n",
        "nota2 =   float(input('Ingrese nota 2: '))\n",
        "\n",
        "\n",
        "\n",
        "#Proceso\n",
        "\n",
        "\n",
        "\n",
        "definitiva = (nota1 * 0.4) + (nota2 * 0.6)\n",
        "\n",
        "\n",
        "\n",
        "\n",
        "\n",
        "#Salida\n",
        "\n",
        "print('\\nNota Defintiva: ',definitiva)\n",
        "\n"
      ],
      "metadata": {
        "id": "tZZ3GtWrOnh6"
      },
      "execution_count": null,
      "outputs": []
    },
    {
      "cell_type": "code",
      "source": [
        "n = 0\n",
        "\n",
        "while n < 5:\n",
        "   print (n)\n",
        "   n += 1"
      ],
      "metadata": {
        "colab": {
          "base_uri": "https://localhost:8080/"
        },
        "id": "5j4yqkVpQHSK",
        "outputId": "32f2360b-e45e-4673-e7ed-b057f9b06135"
      },
      "execution_count": 17,
      "outputs": [
        {
          "output_type": "stream",
          "name": "stdout",
          "text": [
            "0\n",
            "1\n",
            "2\n",
            "3\n",
            "4\n"
          ]
        }
      ]
    },
    {
      "cell_type": "code",
      "source": [
        "par = 2\n",
        "while par < 10:\n",
        "  print(par)\n",
        "  par += 2"
      ],
      "metadata": {
        "colab": {
          "base_uri": "https://localhost:8080/"
        },
        "id": "dIwQsFlYQ5hK",
        "outputId": "b58ab07e-76fe-4beb-ce1e-b23e4740861f"
      },
      "execution_count": 20,
      "outputs": [
        {
          "output_type": "stream",
          "name": "stdout",
          "text": [
            "2\n",
            "4\n",
            "6\n",
            "8\n",
            "10\n",
            "12\n",
            "14\n",
            "16\n",
            "18\n",
            "20\n",
            "22\n",
            "24\n",
            "26\n",
            "28\n",
            "30\n",
            "32\n",
            "34\n",
            "36\n",
            "38\n",
            "40\n",
            "42\n",
            "44\n",
            "46\n",
            "48\n",
            "50\n",
            "52\n",
            "54\n",
            "56\n",
            "58\n",
            "60\n",
            "62\n",
            "64\n",
            "66\n",
            "68\n",
            "70\n",
            "72\n",
            "74\n",
            "76\n",
            "78\n",
            "80\n",
            "82\n",
            "84\n",
            "86\n",
            "88\n",
            "90\n",
            "92\n",
            "94\n",
            "96\n",
            "98\n"
          ]
        }
      ]
    },
    {
      "cell_type": "code",
      "source": [
        "print"
      ],
      "metadata": {
        "id": "HEdkbwlOQ935"
      },
      "execution_count": null,
      "outputs": []
    }
  ]
}